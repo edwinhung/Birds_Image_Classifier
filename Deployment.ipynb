{
 "cells": [
  {
   "cell_type": "markdown",
   "metadata": {},
   "source": [
    "# Bird Classifier\n",
    "You see a beautiful bird and are wondering what kind of species it belongs to? This classifier will give you an quick answer (capable of determining 400 bird species). Simply take a picture of the bird and click \"upload\" to find out!\n",
    "\n",
    "**Note**:This classifier is only able to produce one bird species at a time, so it's not a good idea to include multiple species or something other than a bird in a picture."
   ]
  },
  {
   "cell_type": "code",
   "execution_count": 3,
   "metadata": {
    "colab": {
     "base_uri": "https://localhost:8080/"
    },
    "id": "SGk7wQpeLGUI",
    "outputId": "fd2bf402-9255-4ca4-f2b7-fec6cf940b0a"
   },
   "outputs": [],
   "source": [
    "# !pip install -q git+https://github.com/fastai/fastai\n",
    "# !pip install -q timm"
   ]
  },
  {
   "cell_type": "code",
   "execution_count": 2,
   "metadata": {
    "id": "Xn-9o7pVLQdF"
   },
   "outputs": [],
   "source": [
    "import requests\n",
    "import base64\n",
    "import json\n",
    "from fastai.vision.all import *\n",
    "from fastai.vision.widgets import *"
   ]
  },
  {
   "cell_type": "code",
   "execution_count": 3,
   "metadata": {
    "id": "x9AQ4CH_NFUq"
   },
   "outputs": [],
   "source": [
    "# learn = load_learner('first_efficientnet_b3a.pkl')\n",
    "out_pl = widgets.Output()\n",
    "lbl_pred = widgets.Label()\n",
    "btn_upload = widgets.FileUpload()"
   ]
  },
  {
   "cell_type": "code",
   "execution_count": 4,
   "metadata": {},
   "outputs": [],
   "source": [
    "api = \"12f47e5d16c17cb91aa8d9be0c9ca121\"\n",
    "imgbburl = \"https://api.imgbb.com/1/upload\""
   ]
  },
  {
   "cell_type": "code",
   "execution_count": 5,
   "metadata": {
    "id": "MGRmF2UIOix8"
   },
   "outputs": [],
   "source": [
    "def data_change(change):\n",
    "    lbl_pred.value = ''\n",
    "    img = PILImage.create(btn_upload.data[-1])\n",
    "    out_pl.clear_output()\n",
    "    with out_pl: display(img.to_thumb(128,128))\n",
    "    lbl_pred.value = \"Processing\"\n",
    "    payload = {\n",
    "    'expiration':60,\n",
    "    'key': api,\n",
    "    'image': base64.b64encode(btn_upload.data[-1])\n",
    "    }\n",
    "    respond = requests.post(url,data=payload)\n",
    "    if respond.status_code == 200:\n",
    "        img_url = json.loads(respond.text)['data']['image']['url']\n",
    "        modelurl = \"https://birdclassifier.azurewebsites.net/api/classify?code=pUSRaZ83c390WHyXFdD94X1EiAeFC58kP6loTb9cGca52/q3Eipa/Q==&img=\"\n",
    "        model_res = requests.get(modelurl + img_url)\n",
    "        prediction = json.loads(model_res.text)\n",
    "        lbl_pred.value = f'Prediction: {prediction[\"prediction\"]}; Probability: {prediction[\"confidence\"]}'\n",
    "    else:\n",
    "        lbl_pred.value = \"Failed to upload image\"\n",
    "\n",
    "btn_upload.observe(data_change, names=['data'])"
   ]
  },
  {
   "cell_type": "code",
   "execution_count": 6,
   "metadata": {
    "colab": {
     "base_uri": "https://localhost:8080/",
     "height": 209,
     "referenced_widgets": [
      "cb003b0580664394abcfc3806081d013",
      "ef90ac8db9294d338737aead957981ea",
      "c1b39b43b43f484abb746f64d75eb1b7",
      "55b017ab5ffa463982e35f2ed2fe1e33",
      "894af15664f54850be370e9899cfa9ce",
      "58b7ee0eb8884178b71b23b84a59f97f",
      "11d9d3c54cf54ad78431b526e9a1e870",
      "b2ec748bd57c494ab55fac1964a9c255",
      "521906f513ec464a8a6dfb12407257e3",
      "a6f6299592de47aa84047ba479a89c7f",
      "7d4ca29e0d6a4f95ad20d96af2cd4190",
      "fb6bda00f75d4e398ecff96fc9f923e6",
      "91025d25abaa415590ade986992fac92"
     ]
    },
    "id": "mDZaE4ToQpvf",
    "outputId": "bf3d1884-07ae-438f-8d94-1238aa4e4c64"
   },
   "outputs": [
    {
     "data": {
      "application/vnd.jupyter.widget-view+json": {
       "model_id": "c2f5ad7861c34534a608d9aa072289a4",
       "version_major": 2,
       "version_minor": 0
      },
      "text/plain": [
       "VBox(children=(Label(value='Please upload your bird picture'), FileUpload(value={}, description='Upload'), Out…"
      ]
     },
     "metadata": {},
     "output_type": "display_data"
    }
   ],
   "source": [
    "VBox([widgets.Label('Please upload your bird picture'),\n",
    "      btn_upload, out_pl, lbl_pred])"
   ]
  },
  {
   "cell_type": "code",
   "execution_count": null,
   "metadata": {},
   "outputs": [],
   "source": []
  }
 ],
 "metadata": {
  "colab": {
   "name": "Deployment.ipynb",
   "provenance": []
  },
  "kernelspec": {
   "display_name": "Python 3 (ipykernel)",
   "language": "python",
   "name": "python3"
  },
  "language_info": {
   "codemirror_mode": {
    "name": "ipython",
    "version": 3
   },
   "file_extension": ".py",
   "mimetype": "text/x-python",
   "name": "python",
   "nbconvert_exporter": "python",
   "pygments_lexer": "ipython3",
   "version": "3.9.7"
  },
  "widgets": {
   "application/vnd.jupyter.widget-state+json": {
    "11d9d3c54cf54ad78431b526e9a1e870": {
     "model_module": "@jupyter-widgets/base",
     "model_module_version": "1.2.0",
     "model_name": "LayoutModel",
     "state": {
      "_model_module": "@jupyter-widgets/base",
      "_model_module_version": "1.2.0",
      "_model_name": "LayoutModel",
      "_view_count": null,
      "_view_module": "@jupyter-widgets/base",
      "_view_module_version": "1.2.0",
      "_view_name": "LayoutView",
      "align_content": null,
      "align_items": null,
      "align_self": null,
      "border": null,
      "bottom": null,
      "display": null,
      "flex": null,
      "flex_flow": null,
      "grid_area": null,
      "grid_auto_columns": null,
      "grid_auto_flow": null,
      "grid_auto_rows": null,
      "grid_column": null,
      "grid_gap": null,
      "grid_row": null,
      "grid_template_areas": null,
      "grid_template_columns": null,
      "grid_template_rows": null,
      "height": null,
      "justify_content": null,
      "justify_items": null,
      "left": null,
      "margin": null,
      "max_height": null,
      "max_width": null,
      "min_height": null,
      "min_width": null,
      "object_fit": null,
      "object_position": null,
      "order": null,
      "overflow": null,
      "overflow_x": null,
      "overflow_y": null,
      "padding": null,
      "right": null,
      "top": null,
      "visibility": null,
      "width": null
     }
    },
    "521906f513ec464a8a6dfb12407257e3": {
     "model_module": "@jupyter-widgets/base",
     "model_module_version": "1.2.0",
     "model_name": "LayoutModel",
     "state": {
      "_model_module": "@jupyter-widgets/base",
      "_model_module_version": "1.2.0",
      "_model_name": "LayoutModel",
      "_view_count": null,
      "_view_module": "@jupyter-widgets/base",
      "_view_module_version": "1.2.0",
      "_view_name": "LayoutView",
      "align_content": null,
      "align_items": null,
      "align_self": null,
      "border": null,
      "bottom": null,
      "display": null,
      "flex": null,
      "flex_flow": null,
      "grid_area": null,
      "grid_auto_columns": null,
      "grid_auto_flow": null,
      "grid_auto_rows": null,
      "grid_column": null,
      "grid_gap": null,
      "grid_row": null,
      "grid_template_areas": null,
      "grid_template_columns": null,
      "grid_template_rows": null,
      "height": null,
      "justify_content": null,
      "justify_items": null,
      "left": null,
      "margin": null,
      "max_height": null,
      "max_width": null,
      "min_height": null,
      "min_width": null,
      "object_fit": null,
      "object_position": null,
      "order": null,
      "overflow": null,
      "overflow_x": null,
      "overflow_y": null,
      "padding": null,
      "right": null,
      "top": null,
      "visibility": null,
      "width": null
     }
    },
    "55b017ab5ffa463982e35f2ed2fe1e33": {
     "model_module": "@jupyter-widgets/output",
     "model_module_version": "1.0.0",
     "model_name": "OutputModel",
     "state": {
      "_dom_classes": [],
      "_model_module": "@jupyter-widgets/output",
      "_model_module_version": "1.0.0",
      "_model_name": "OutputModel",
      "_view_count": null,
      "_view_module": "@jupyter-widgets/output",
      "_view_module_version": "1.0.0",
      "_view_name": "OutputView",
      "layout": "IPY_MODEL_91025d25abaa415590ade986992fac92",
      "msg_id": "",
      "outputs": [
       {
        "data": {
         "image/png": "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\n",
         "text/plain": "<PIL.Image.Image image mode=RGB size=128x96 at 0x7FC24B4AD7D0>"
        },
        "metadata": {},
        "output_type": "display_data"
       }
      ]
     }
    },
    "58b7ee0eb8884178b71b23b84a59f97f": {
     "model_module": "@jupyter-widgets/base",
     "model_module_version": "1.2.0",
     "model_name": "LayoutModel",
     "state": {
      "_model_module": "@jupyter-widgets/base",
      "_model_module_version": "1.2.0",
      "_model_name": "LayoutModel",
      "_view_count": null,
      "_view_module": "@jupyter-widgets/base",
      "_view_module_version": "1.2.0",
      "_view_name": "LayoutView",
      "align_content": null,
      "align_items": null,
      "align_self": null,
      "border": null,
      "bottom": null,
      "display": null,
      "flex": null,
      "flex_flow": null,
      "grid_area": null,
      "grid_auto_columns": null,
      "grid_auto_flow": null,
      "grid_auto_rows": null,
      "grid_column": null,
      "grid_gap": null,
      "grid_row": null,
      "grid_template_areas": null,
      "grid_template_columns": null,
      "grid_template_rows": null,
      "height": null,
      "justify_content": null,
      "justify_items": null,
      "left": null,
      "margin": null,
      "max_height": null,
      "max_width": null,
      "min_height": null,
      "min_width": null,
      "object_fit": null,
      "object_position": null,
      "order": null,
      "overflow": null,
      "overflow_x": null,
      "overflow_y": null,
      "padding": null,
      "right": null,
      "top": null,
      "visibility": null,
      "width": null
     }
    },
    "7d4ca29e0d6a4f95ad20d96af2cd4190": {
     "model_module": "@jupyter-widgets/base",
     "model_module_version": "1.2.0",
     "model_name": "LayoutModel",
     "state": {
      "_model_module": "@jupyter-widgets/base",
      "_model_module_version": "1.2.0",
      "_model_name": "LayoutModel",
      "_view_count": null,
      "_view_module": "@jupyter-widgets/base",
      "_view_module_version": "1.2.0",
      "_view_name": "LayoutView",
      "align_content": null,
      "align_items": null,
      "align_self": null,
      "border": null,
      "bottom": null,
      "display": null,
      "flex": null,
      "flex_flow": null,
      "grid_area": null,
      "grid_auto_columns": null,
      "grid_auto_flow": null,
      "grid_auto_rows": null,
      "grid_column": null,
      "grid_gap": null,
      "grid_row": null,
      "grid_template_areas": null,
      "grid_template_columns": null,
      "grid_template_rows": null,
      "height": null,
      "justify_content": null,
      "justify_items": null,
      "left": null,
      "margin": null,
      "max_height": null,
      "max_width": null,
      "min_height": null,
      "min_width": null,
      "object_fit": null,
      "object_position": null,
      "order": null,
      "overflow": null,
      "overflow_x": null,
      "overflow_y": null,
      "padding": null,
      "right": null,
      "top": null,
      "visibility": null,
      "width": null
     }
    },
    "894af15664f54850be370e9899cfa9ce": {
     "model_module": "@jupyter-widgets/controls",
     "model_module_version": "1.5.0",
     "model_name": "LabelModel",
     "state": {
      "_dom_classes": [],
      "_model_module": "@jupyter-widgets/controls",
      "_model_module_version": "1.5.0",
      "_model_name": "LabelModel",
      "_view_count": null,
      "_view_module": "@jupyter-widgets/controls",
      "_view_module_version": "1.5.0",
      "_view_name": "LabelView",
      "description": "",
      "description_tooltip": null,
      "layout": "IPY_MODEL_7d4ca29e0d6a4f95ad20d96af2cd4190",
      "placeholder": "​",
      "style": "IPY_MODEL_fb6bda00f75d4e398ecff96fc9f923e6",
      "value": "Prediction: HOATZIN; Probability 1.0000"
     }
    },
    "91025d25abaa415590ade986992fac92": {
     "model_module": "@jupyter-widgets/base",
     "model_module_version": "1.2.0",
     "model_name": "LayoutModel",
     "state": {
      "_model_module": "@jupyter-widgets/base",
      "_model_module_version": "1.2.0",
      "_model_name": "LayoutModel",
      "_view_count": null,
      "_view_module": "@jupyter-widgets/base",
      "_view_module_version": "1.2.0",
      "_view_name": "LayoutView",
      "align_content": null,
      "align_items": null,
      "align_self": null,
      "border": null,
      "bottom": null,
      "display": null,
      "flex": null,
      "flex_flow": null,
      "grid_area": null,
      "grid_auto_columns": null,
      "grid_auto_flow": null,
      "grid_auto_rows": null,
      "grid_column": null,
      "grid_gap": null,
      "grid_row": null,
      "grid_template_areas": null,
      "grid_template_columns": null,
      "grid_template_rows": null,
      "height": null,
      "justify_content": null,
      "justify_items": null,
      "left": null,
      "margin": null,
      "max_height": null,
      "max_width": null,
      "min_height": null,
      "min_width": null,
      "object_fit": null,
      "object_position": null,
      "order": null,
      "overflow": null,
      "overflow_x": null,
      "overflow_y": null,
      "padding": null,
      "right": null,
      "top": null,
      "visibility": null,
      "width": null
     }
    },
    "a6f6299592de47aa84047ba479a89c7f": {
     "model_module": "@jupyter-widgets/controls",
     "model_module_version": "1.5.0",
     "model_name": "ButtonStyleModel",
     "state": {
      "_model_module": "@jupyter-widgets/controls",
      "_model_module_version": "1.5.0",
      "_model_name": "ButtonStyleModel",
      "_view_count": null,
      "_view_module": "@jupyter-widgets/base",
      "_view_module_version": "1.2.0",
      "_view_name": "StyleView",
      "button_color": null,
      "font_weight": ""
     }
    },
    "b2ec748bd57c494ab55fac1964a9c255": {
     "model_module": "@jupyter-widgets/controls",
     "model_module_version": "1.5.0",
     "model_name": "DescriptionStyleModel",
     "state": {
      "_model_module": "@jupyter-widgets/controls",
      "_model_module_version": "1.5.0",
      "_model_name": "DescriptionStyleModel",
      "_view_count": null,
      "_view_module": "@jupyter-widgets/base",
      "_view_module_version": "1.2.0",
      "_view_name": "StyleView",
      "description_width": ""
     }
    },
    "c1b39b43b43f484abb746f64d75eb1b7": {
     "model_module": "@jupyter-widgets/controls",
     "model_module_version": "1.5.0",
     "model_name": "FileUploadModel",
     "state": {
      "_counter": 1,
      "_dom_classes": [],
      "_model_module": "@jupyter-widgets/controls",
      "_model_module_version": "1.5.0",
      "_model_name": "FileUploadModel",
      "_view_count": null,
      "_view_module": "@jupyter-widgets/controls",
      "_view_module_version": "1.5.0",
      "_view_name": "FileUploadView",
      "accept": "",
      "button_style": "",
      "data": [
       null
      ],
      "description": "Upload",
      "description_tooltip": null,
      "disabled": false,
      "error": "",
      "icon": "upload",
      "layout": "IPY_MODEL_521906f513ec464a8a6dfb12407257e3",
      "metadata": [
       {
        "lastModified": 1648322575931,
        "name": "Hoatzin.jpg",
        "size": 174798,
        "type": "image/jpeg"
       }
      ],
      "multiple": false,
      "style": "IPY_MODEL_a6f6299592de47aa84047ba479a89c7f"
     }
    },
    "cb003b0580664394abcfc3806081d013": {
     "model_module": "@jupyter-widgets/controls",
     "model_module_version": "1.5.0",
     "model_name": "VBoxModel",
     "state": {
      "_dom_classes": [],
      "_model_module": "@jupyter-widgets/controls",
      "_model_module_version": "1.5.0",
      "_model_name": "VBoxModel",
      "_view_count": null,
      "_view_module": "@jupyter-widgets/controls",
      "_view_module_version": "1.5.0",
      "_view_name": "VBoxView",
      "box_style": "",
      "children": [
       "IPY_MODEL_ef90ac8db9294d338737aead957981ea",
       "IPY_MODEL_c1b39b43b43f484abb746f64d75eb1b7",
       "IPY_MODEL_55b017ab5ffa463982e35f2ed2fe1e33",
       "IPY_MODEL_894af15664f54850be370e9899cfa9ce"
      ],
      "layout": "IPY_MODEL_58b7ee0eb8884178b71b23b84a59f97f"
     }
    },
    "ef90ac8db9294d338737aead957981ea": {
     "model_module": "@jupyter-widgets/controls",
     "model_module_version": "1.5.0",
     "model_name": "LabelModel",
     "state": {
      "_dom_classes": [],
      "_model_module": "@jupyter-widgets/controls",
      "_model_module_version": "1.5.0",
      "_model_name": "LabelModel",
      "_view_count": null,
      "_view_module": "@jupyter-widgets/controls",
      "_view_module_version": "1.5.0",
      "_view_name": "LabelView",
      "description": "",
      "description_tooltip": null,
      "layout": "IPY_MODEL_11d9d3c54cf54ad78431b526e9a1e870",
      "placeholder": "​",
      "style": "IPY_MODEL_b2ec748bd57c494ab55fac1964a9c255",
      "value": "Please upload your bird picture"
     }
    },
    "fb6bda00f75d4e398ecff96fc9f923e6": {
     "model_module": "@jupyter-widgets/controls",
     "model_module_version": "1.5.0",
     "model_name": "DescriptionStyleModel",
     "state": {
      "_model_module": "@jupyter-widgets/controls",
      "_model_module_version": "1.5.0",
      "_model_name": "DescriptionStyleModel",
      "_view_count": null,
      "_view_module": "@jupyter-widgets/base",
      "_view_module_version": "1.2.0",
      "_view_name": "StyleView",
      "description_width": ""
     }
    }
   }
  }
 },
 "nbformat": 4,
 "nbformat_minor": 1
}
